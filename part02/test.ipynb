{
 "cells": [
  {
   "cell_type": "code",
   "execution_count": 2,
   "metadata": {},
   "outputs": [],
   "source": [
    "from matplotlib import pyplot as plt\n",
    "import pandas as pd\n",
    "import seaborn as sns\n",
    "import numpy as np\n",
    "import zipfile\n",
    "import random"
   ]
  },
  {
   "cell_type": "code",
   "execution_count": 3,
   "metadata": {},
   "outputs": [
    {
     "name": "stdout",
     "output_type": "stream",
     "text": [
      "                 p1         p2a   p2b  p4a  p4b  p4c  p5a  p6  p7  p8  ...  \\\n",
      "0       10623000002  01.01.2023  1730    1    7   12    2   5   0   0  ...   \n",
      "1       60223000039  10.01.2023   916    6    2   10    1   3   0   3  ...   \n",
      "2          23000455  15.01.2023  1930    0   11   20    1   1   4   0  ...   \n",
      "3       70623000019  10.01.2023   815    7    6   18    2   5   0   0  ...   \n",
      "4      161723000024  11.01.2023  1730   16   17   17    2   5   0   0  ...   \n",
      "...             ...         ...   ...  ...  ...  ...  ...  ..  ..  ..  ...   \n",
      "69696  140824000888  04.10.2024   620   14    8   17    2   5   0   0  ...   \n",
      "69697  140824000887  03.10.2024  2230   14    8   17    2   5   0   0  ...   \n",
      "69698  140824000886  03.10.2024  2030   14    8   19    2   5   0   0  ...   \n",
      "69699  140824000885  03.10.2024  1260   14    8   19    1   3   0   6  ...   \n",
      "69700   11624000662  03.10.2024  1010    1   16   21    2   1   4   0  ...   \n",
      "\n",
      "       p24  p27  p28  p34  p35  p36      p37      p38  p39  Unnamed: 38  \n",
      "0        0    0    1    1    0    1     16.0   7532.0  NaN          NaN  \n",
      "1        3    0    5    1   10    6      NaN      NaN  6.0          NaN  \n",
      "2        0   10    1    2    0    6      NaN      NaN  NaN          NaN  \n",
      "3        0    0    1    1    0    2    460.0   1275.0  NaN          NaN  \n",
      "4        0    0    1    1    0    6      NaN      NaN  NaN          NaN  \n",
      "...    ...  ...  ...  ...  ...  ...      ...      ...  ...          ...  \n",
      "69696    0    0    1    1    0    3  43714.0    223.0  NaN          NaN  \n",
      "69697    0    0    1    1    0    3   4348.0    856.0  NaN          NaN  \n",
      "69698    0    0    1    1    0    2    150.0  15407.0  NaN          NaN  \n",
      "69699    0    0    1    1    0    6      NaN      NaN  NaN          NaN  \n",
      "69700    0    0    1    3    0    0      6.0     57.0  NaN          NaN  \n",
      "\n",
      "[164646 rows x 39 columns]\n"
     ]
    }
   ],
   "source": [
    "def load_data(filename : str, ds : str) -> pd.DataFrame:\n",
    "    dfs = []\n",
    "    with zipfile.ZipFile(filename, 'r') as trg_zip:\n",
    "        for item in trg_zip.namelist():\n",
    "            if ds in item:\n",
    "                with trg_zip.open(item) as trg_file:\n",
    "                    dfs.extend(pd.read_html(trg_file, encoding='cp1250'))\n",
    "    return pd.concat(dfs)\n",
    "df = load_data('data_23_24.zip', 'nehody')\n",
    "print(df)"
   ]
  },
  {
   "cell_type": "code",
   "execution_count": 5,
   "metadata": {},
   "outputs": [
    {
     "name": "stdout",
     "output_type": "stream",
     "text": [
      "new_size=70.962426 MB\n",
      "0        STC\n",
      "1        JHM\n",
      "2        PHA\n",
      "3        MSK\n",
      "4        VYS\n",
      "        ... \n",
      "69696    OLK\n",
      "69697    OLK\n",
      "69698    OLK\n",
      "69699    OLK\n",
      "69700    STC\n",
      "Name: region, Length: 164646, dtype: object\n"
     ]
    }
   ],
   "source": [
    "def parse_data(df: pd.DataFrame, verbose: bool = False) -> pd.DataFrame:\n",
    "    new_df = df.copy()\n",
    "    \n",
    "    new_df['date'] = pd.to_datetime(df['p2a'], dayfirst=True, yearfirst=False, format=None, errors='coerce')\n",
    "    \n",
    "    region_dict = {0: \"PHA\", 1: \"STC\", 2: \"JHC\", 3: \"PLK\", 4: \"ULK\", 5: \"HKK\",6:\n",
    "    \"JHM\", 7: \"MSK\", 14: \"OLK\", 15: \"ZLK\", 16: \"VYS\", 17: \"PAK\", 18:\n",
    "    \"LBK\", 19: \"KVK\"}\n",
    "    new_df['region'] = new_df['p4a'].apply(lambda x: region_dict[x]) \n",
    "\n",
    "    new_df.drop_duplicates(subset=['p1'], inplace=True)\n",
    "    \n",
    "    if verbose:\n",
    "        new_size = new_df.memory_usage(deep=True).sum()/1_000_000\n",
    "        print(f'new_size={new_size} MB')\n",
    "    return new_df\n",
    "\n",
    "out = parse_data(df, True)"
   ]
  },
  {
   "cell_type": "code",
   "execution_count": null,
   "metadata": {},
   "outputs": [],
   "source": [
    "# Ukol 3: počty nehod v jednotlivých regionech podle stavu vozovky\n",
    "def plot_state(df: pd.DataFrame, fig_location: str = None,\n",
    "                    show_figure: bool = False):\n",
    "    pass"
   ]
  },
  {
   "cell_type": "code",
   "execution_count": null,
   "metadata": {},
   "outputs": [
    {
     "name": "stdout",
     "output_type": "stream",
     "text": [
      "                values\n",
      "names                 \n",
      "retezec2  99999.799644\n",
      "retezec4  99999.799644\n",
      "retezec3  99999.799644\n",
      "retezec4  99999.799644\n",
      "retezec4  99999.799644\n",
      "...                ...\n",
      "retezec1  99999.799644\n",
      "retezec2  99999.799644\n",
      "retezec1  99999.799644\n",
      "retezec1  99999.799644\n",
      "retezec4  99999.799644\n",
      "\n",
      "[1000000 rows x 1 columns]\n"
     ]
    }
   ],
   "source": [
    "164646 "
   ]
  }
 ],
 "metadata": {
  "kernelspec": {
   "display_name": "Python 3",
   "language": "python",
   "name": "python3"
  },
  "language_info": {
   "codemirror_mode": {
    "name": "ipython",
    "version": 3
   },
   "file_extension": ".py",
   "mimetype": "text/x-python",
   "name": "python",
   "nbconvert_exporter": "python",
   "pygments_lexer": "ipython3",
   "version": "3.12.3"
  }
 },
 "nbformat": 4,
 "nbformat_minor": 2
}
