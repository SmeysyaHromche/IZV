{
 "cells": [
  {
   "cell_type": "markdown",
   "metadata": {},
   "source": [
    "# Hypothesis test\n",
    "Author: Myron Kukhta (xkukht01)"
   ]
  },
  {
   "cell_type": "markdown",
   "metadata": {},
   "source": [
    "### Dependency import"
   ]
  },
  {
   "cell_type": "code",
   "execution_count": 175,
   "metadata": {},
   "outputs": [],
   "source": [
    "import pandas as pd\n",
    "from scipy import stats"
   ]
  },
  {
   "cell_type": "markdown",
   "metadata": {},
   "source": [
    "# Hypothesis test 1\n",
    "### Task  \n",
    "*\"On first-class roads, accidents with personal injury consequences were equally likely as on the highways.\"*  \n",
    "\n",
    "### Method:\n",
    "*Chi-squareTestd* "
   ]
  },
  {
   "cell_type": "markdown",
   "metadata": {},
   "source": [
    "Initially we will load statistical data on road accidents."
   ]
  },
  {
   "cell_type": "code",
   "execution_count": 176,
   "metadata": {},
   "outputs": [],
   "source": [
    "df = pd.read_pickle(\"accidents.pkl.gz\")"
   ]
  },
  {
   "cell_type": "markdown",
   "metadata": {},
   "source": [
    "LLet's familiarise ourselves with the data structure and leave only the ones we are interested in. In this case:\n",
    "\n",
    "- **p9** - Effect on:\n",
    "  - `1` - health\n",
    "  - `2` - own (personal impact)\n",
    "\n",
    "- **p36** - Type of road:\n",
    "  - `0` - First-class road\n",
    "  - `1` - Highways  \n",
    "  - Other values will be removed.\n",
    "\n",
    "For more convenience, let's convert the data into a human-readable format."
   ]
  },
  {
   "cell_type": "code",
   "execution_count": 177,
   "metadata": {},
   "outputs": [],
   "source": [
    "df1 = df[['p36', 'p9']]\n",
    "df1 = df1[(df1['p36'] == 0) | (df1['p36'] == 1)]\n",
    "df1['Road type'] = df1['p36'].map({0:'highways', 1:'first class road'})\n",
    "df1['With a health effect'] = (df1['p9'] == 1)"
   ]
  },
  {
   "cell_type": "markdown",
   "metadata": {},
   "source": [
    "To run the test, we must transform our table into a contingency table\n"
   ]
  },
  {
   "cell_type": "code",
   "execution_count": 178,
   "metadata": {},
   "outputs": [
    {
     "data": {
      "text/html": [
       "<div>\n",
       "<style scoped>\n",
       "    .dataframe tbody tr th:only-of-type {\n",
       "        vertical-align: middle;\n",
       "    }\n",
       "\n",
       "    .dataframe tbody tr th {\n",
       "        vertical-align: top;\n",
       "    }\n",
       "\n",
       "    .dataframe thead th {\n",
       "        text-align: right;\n",
       "    }\n",
       "</style>\n",
       "<table border=\"1\" class=\"dataframe\">\n",
       "  <thead>\n",
       "    <tr style=\"text-align: right;\">\n",
       "      <th>With a health effect</th>\n",
       "      <th>False</th>\n",
       "      <th>True</th>\n",
       "    </tr>\n",
       "    <tr>\n",
       "      <th>Road type</th>\n",
       "      <th></th>\n",
       "      <th></th>\n",
       "    </tr>\n",
       "  </thead>\n",
       "  <tbody>\n",
       "    <tr>\n",
       "      <th>first class road</th>\n",
       "      <td>14773</td>\n",
       "      <td>7059</td>\n",
       "    </tr>\n",
       "    <tr>\n",
       "      <th>highways</th>\n",
       "      <td>6674</td>\n",
       "      <td>1247</td>\n",
       "    </tr>\n",
       "  </tbody>\n",
       "</table>\n",
       "</div>"
      ],
      "text/plain": [
       "With a health effect  False  True \n",
       "Road type                         \n",
       "first class road      14773   7059\n",
       "highways               6674   1247"
      ]
     },
     "execution_count": 178,
     "metadata": {},
     "output_type": "execute_result"
    }
   ],
   "source": [
    "statistic_tab = pd.crosstab(index=df1['Road type'], columns=df1['With a health effect'])\n",
    "statistic_tab"
   ]
  },
  {
   "cell_type": "markdown",
   "metadata": {},
   "source": [
    "Chi-squareTestd is a statistical test that relies on comparing the observed relationship between two qualitative variables in some context and the expected one.\n",
    "In our case, it is the type of road and an observation about the number of accidents in the context of their effects on human health. "
   ]
  },
  {
   "cell_type": "code",
   "execution_count": 179,
   "metadata": {},
   "outputs": [
    {
     "data": {
      "text/html": [
       "<div>\n",
       "<style scoped>\n",
       "    .dataframe tbody tr th:only-of-type {\n",
       "        vertical-align: middle;\n",
       "    }\n",
       "\n",
       "    .dataframe tbody tr th {\n",
       "        vertical-align: top;\n",
       "    }\n",
       "\n",
       "    .dataframe thead th {\n",
       "        text-align: right;\n",
       "    }\n",
       "</style>\n",
       "<table border=\"1\" class=\"dataframe\">\n",
       "  <thead>\n",
       "    <tr style=\"text-align: right;\">\n",
       "      <th></th>\n",
       "      <th>Metrics</th>\n",
       "      <th>Value</th>\n",
       "    </tr>\n",
       "  </thead>\n",
       "  <tbody>\n",
       "    <tr>\n",
       "      <th>0</th>\n",
       "      <td>statistic</td>\n",
       "      <td>7.941533e+02</td>\n",
       "    </tr>\n",
       "    <tr>\n",
       "      <th>1</th>\n",
       "      <td>p-value</td>\n",
       "      <td>1.007500e-174</td>\n",
       "    </tr>\n",
       "    <tr>\n",
       "      <th>2</th>\n",
       "      <td>Degree of freedom</td>\n",
       "      <td>1.000000e+00</td>\n",
       "    </tr>\n",
       "  </tbody>\n",
       "</table>\n",
       "</div>"
      ],
      "text/plain": [
       "             Metrics          Value\n",
       "0          statistic   7.941533e+02\n",
       "1            p-value  1.007500e-174\n",
       "2  Degree of freedom   1.000000e+00"
      ]
     },
     "execution_count": 179,
     "metadata": {},
     "output_type": "execute_result"
    }
   ],
   "source": [
    "test_statistic, p, dof, expect = stats.chi2_contingency(statistic_tab)\n",
    "output_of_test = pd.DataFrame({\n",
    "    'Metrics':['statistic', 'p-value', 'Degree of freedom'],\n",
    "    'Value': [test_statistic, p, dof]\n",
    "})\n",
    "output_of_test"
   ]
  },
  {
   "cell_type": "markdown",
   "metadata": {},
   "source": [
    "As we can observe, the statistical test does not exceed the expected result, indicating that the hypothesis is false and there is a clear correlation between road type and the probability of health hazard based on road type. "
   ]
  },
  {
   "cell_type": "code",
   "execution_count": 180,
   "metadata": {},
   "outputs": [
    {
     "name": "stdout",
     "output_type": "stream",
     "text": [
      "On first-class roads, accidents with personal injury consequences were NOT EQUALLY likely as on the highways.\n"
     ]
    }
   ],
   "source": [
    "if p > 0.05:\n",
    "    print('On first-class roads, accidents with personal injury consequences were EQUALLY likely as on the highways.')\n",
    "else:\n",
    "    print('On first-class roads, accidents with personal injury consequences were NOT EQUALLY likely as on the highways.')\n",
    "\n"
   ]
  },
  {
   "cell_type": "markdown",
   "metadata": {},
   "source": [
    "From the above comparison between real and expected data, we can observe an interesting statistic that *first-class roads are more life-threatening* than highways. This is a surprising fact to me!"
   ]
  },
  {
   "cell_type": "code",
   "execution_count": 181,
   "metadata": {},
   "outputs": [
    {
     "data": {
      "text/html": [
       "<div>\n",
       "<style scoped>\n",
       "    .dataframe tbody tr th:only-of-type {\n",
       "        vertical-align: middle;\n",
       "    }\n",
       "\n",
       "    .dataframe tbody tr th {\n",
       "        vertical-align: top;\n",
       "    }\n",
       "\n",
       "    .dataframe thead th {\n",
       "        text-align: right;\n",
       "    }\n",
       "</style>\n",
       "<table border=\"1\" class=\"dataframe\">\n",
       "  <thead>\n",
       "    <tr style=\"text-align: right;\">\n",
       "      <th>With a health effect</th>\n",
       "      <th>False</th>\n",
       "      <th>True</th>\n",
       "    </tr>\n",
       "    <tr>\n",
       "      <th>Road type</th>\n",
       "      <th></th>\n",
       "      <th></th>\n",
       "    </tr>\n",
       "  </thead>\n",
       "  <tbody>\n",
       "    <tr>\n",
       "      <th>first class road</th>\n",
       "      <td>-964.266965</td>\n",
       "      <td>964.266965</td>\n",
       "    </tr>\n",
       "    <tr>\n",
       "      <th>highways</th>\n",
       "      <td>964.266965</td>\n",
       "      <td>-964.266965</td>\n",
       "    </tr>\n",
       "  </tbody>\n",
       "</table>\n",
       "</div>"
      ],
      "text/plain": [
       "With a health effect       False       True \n",
       "Road type                                   \n",
       "first class road     -964.266965  964.266965\n",
       "highways              964.266965 -964.266965"
      ]
     },
     "execution_count": 181,
     "metadata": {},
     "output_type": "execute_result"
    }
   ],
   "source": [
    "statistic_tab - expect"
   ]
  },
  {
   "cell_type": "markdown",
   "metadata": {},
   "source": [
    "# Hypothesis test 2\n",
    "### Task  \n",
    "*\"On first-class roads, accidents with personal injury consequences were equally likely as on the highways.\"*  \n",
    "\n",
    "### Method:\n",
    "*Chi-squareTestd* "
   ]
  }
 ],
 "metadata": {
  "kernelspec": {
   "display_name": "Python 3",
   "language": "python",
   "name": "python3"
  },
  "language_info": {
   "codemirror_mode": {
    "name": "ipython",
    "version": 3
   },
   "file_extension": ".py",
   "mimetype": "text/x-python",
   "name": "python",
   "nbconvert_exporter": "python",
   "pygments_lexer": "ipython3",
   "version": "3.12.3"
  }
 },
 "nbformat": 4,
 "nbformat_minor": 2
}
