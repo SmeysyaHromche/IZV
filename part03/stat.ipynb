{
 "cells": [
  {
   "cell_type": "markdown",
   "metadata": {},
   "source": [
    "# Hypothesis test\n",
    "Author: Myron Kukhta (xkukht01)"
   ]
  },
  {
   "cell_type": "markdown",
   "metadata": {},
   "source": [
    "### Dependency import"
   ]
  },
  {
   "cell_type": "code",
   "execution_count": 218,
   "metadata": {},
   "outputs": [],
   "source": [
    "import pandas as pd\n",
    "from scipy import stats\n",
    "import matplotlib.pyplot as plt"
   ]
  },
  {
   "cell_type": "markdown",
   "metadata": {},
   "source": [
    "# Hypothesis test 1\n",
    "__Task__ : *\"On first-class roads, accidents with personal injury consequences were equally likely as on the highways.\"*  \n",
    "\n",
    "__Method__: *Chi-squareTestd* "
   ]
  },
  {
   "cell_type": "markdown",
   "metadata": {},
   "source": [
    "### Prepare Data\n",
    "\n",
    "Let's familiarise ourselves with the data structure and leave only the ones we are interested in. In this case:\n",
    "\n",
    "- **p9** - Effect on:\n",
    "  - `1` - health\n",
    "  - `2` - own (personal impact)\n",
    "\n",
    "- **p36** - Type of road:\n",
    "  - `0` - First-class road\n",
    "  - `1` - Highways  \n",
    "  - Other values will be removed.\n",
    "\n",
    "For more convenience, let's convert the data into a human-readable format."
   ]
  },
  {
   "cell_type": "code",
   "execution_count": 219,
   "metadata": {},
   "outputs": [],
   "source": [
    "# load data\n",
    "df_accident = pd.read_pickle(\"accidents.pkl.gz\")\n",
    "\n",
    "# preprocessing\n",
    "df1 = df_accident[['p36', 'p9']]\n",
    "df1 = df1[(df1['p36'] == 0) | (df1['p36'] == 1)]\n",
    "df1['Road type'] = df1['p36'].map({0:'highways', 1:'first class road'})\n",
    "df1['With a health effect'] = (df1['p9'] == 1)"
   ]
  },
  {
   "cell_type": "markdown",
   "metadata": {},
   "source": [
    "To run the test, we must transform our table into a contingency table which represent statistic relationship between type of road and health accident.\n"
   ]
  },
  {
   "cell_type": "code",
   "execution_count": 220,
   "metadata": {},
   "outputs": [
    {
     "data": {
      "text/html": [
       "<div>\n",
       "<style scoped>\n",
       "    .dataframe tbody tr th:only-of-type {\n",
       "        vertical-align: middle;\n",
       "    }\n",
       "\n",
       "    .dataframe tbody tr th {\n",
       "        vertical-align: top;\n",
       "    }\n",
       "\n",
       "    .dataframe thead th {\n",
       "        text-align: right;\n",
       "    }\n",
       "</style>\n",
       "<table border=\"1\" class=\"dataframe\">\n",
       "  <thead>\n",
       "    <tr style=\"text-align: right;\">\n",
       "      <th>With a health effect</th>\n",
       "      <th>False</th>\n",
       "      <th>True</th>\n",
       "    </tr>\n",
       "    <tr>\n",
       "      <th>Road type</th>\n",
       "      <th></th>\n",
       "      <th></th>\n",
       "    </tr>\n",
       "  </thead>\n",
       "  <tbody>\n",
       "    <tr>\n",
       "      <th>first class road</th>\n",
       "      <td>14773</td>\n",
       "      <td>7059</td>\n",
       "    </tr>\n",
       "    <tr>\n",
       "      <th>highways</th>\n",
       "      <td>6674</td>\n",
       "      <td>1247</td>\n",
       "    </tr>\n",
       "  </tbody>\n",
       "</table>\n",
       "</div>"
      ],
      "text/plain": [
       "With a health effect  False  True \n",
       "Road type                         \n",
       "first class road      14773   7059\n",
       "highways               6674   1247"
      ]
     },
     "execution_count": 220,
     "metadata": {},
     "output_type": "execute_result"
    }
   ],
   "source": [
    "statistic_tab = pd.crosstab(index=df1['Road type'], columns=df1['With a health effect'])\n",
    "statistic_tab"
   ]
  },
  {
   "cell_type": "markdown",
   "metadata": {},
   "source": [
    "### Theory and Test\n",
    "\n",
    "*Chi-square Test* is a statistical test that relies on comparing the observed relationship between two qualitative variables in some context and the expected one and checks whether or not there is a statistical difference between them.\n",
    "\n",
    "In our case, it is the type of road and an observation about the number of accidents in the context of their effects on human health. \n",
    "\n",
    "Let's declare a null hypothesis that is fully consistent with our assignment: *\"On first-class roads, accidents with personal injury consequences were equally likely as on the highways.\"*\n",
    "\n",
    "Significance threshold will be 0.05."
   ]
  },
  {
   "cell_type": "code",
   "execution_count": 221,
   "metadata": {},
   "outputs": [
    {
     "name": "stdout",
     "output_type": "stream",
     "text": [
      "Test of statistic: 794.1532980454858\n",
      "p-value: 1.0075002730159729e-174\n",
      "Degree of freedom: 1\n"
     ]
    }
   ],
   "source": [
    "SIGN_THR = 0.05\n",
    "\n",
    "# statistic test\n",
    "test_statistic, p, dof, expect = stats.chi2_contingency(statistic_tab)\n",
    "\n",
    "print(f'Test of statistic: {test_statistic}')\n",
    "print(f'p-value: {p}')\n",
    "print(f'Degree of freedom: {dof}')"
   ]
  },
  {
   "cell_type": "markdown",
   "metadata": {},
   "source": [
    "### Analys\n",
    "\n",
    "As we can observe, the statistical test does not exceed the expected result, indicating that the hypothesis is false and there is a clear correlation between road type and the probability of health hazard based on road type. "
   ]
  },
  {
   "cell_type": "code",
   "execution_count": 222,
   "metadata": {},
   "outputs": [
    {
     "name": "stdout",
     "output_type": "stream",
     "text": [
      "Fact: On first-class roads, accidents with personal injury consequences were NOT EQUALLY likely as on the highways.\n"
     ]
    }
   ],
   "source": [
    "# check truth of hypothesis\n",
    "print('Fact: ', end='')\n",
    "if p >= SIGN_THR:\n",
    "    print('On first-class roads, accidents with personal injury consequences were EQUALLY likely as on the highways.')\n",
    "else:\n",
    "    print('On first-class roads, accidents with personal injury consequences were NOT EQUALLY likely as on the highways.')\n",
    "\n"
   ]
  },
  {
   "cell_type": "markdown",
   "metadata": {},
   "source": [
    "From the above comparison between real and expected data, we can observe an interesting statistic that *first-class roads are more life-threatening* than highways. This is a surprising fact to me!"
   ]
  },
  {
   "cell_type": "code",
   "execution_count": 223,
   "metadata": {},
   "outputs": [
    {
     "data": {
      "text/html": [
       "<div>\n",
       "<style scoped>\n",
       "    .dataframe tbody tr th:only-of-type {\n",
       "        vertical-align: middle;\n",
       "    }\n",
       "\n",
       "    .dataframe tbody tr th {\n",
       "        vertical-align: top;\n",
       "    }\n",
       "\n",
       "    .dataframe thead th {\n",
       "        text-align: right;\n",
       "    }\n",
       "</style>\n",
       "<table border=\"1\" class=\"dataframe\">\n",
       "  <thead>\n",
       "    <tr style=\"text-align: right;\">\n",
       "      <th>With a health effect</th>\n",
       "      <th>False</th>\n",
       "      <th>True</th>\n",
       "    </tr>\n",
       "    <tr>\n",
       "      <th>Road type</th>\n",
       "      <th></th>\n",
       "      <th></th>\n",
       "    </tr>\n",
       "  </thead>\n",
       "  <tbody>\n",
       "    <tr>\n",
       "      <th>first class road</th>\n",
       "      <td>-964.266965</td>\n",
       "      <td>964.266965</td>\n",
       "    </tr>\n",
       "    <tr>\n",
       "      <th>highways</th>\n",
       "      <td>964.266965</td>\n",
       "      <td>-964.266965</td>\n",
       "    </tr>\n",
       "  </tbody>\n",
       "</table>\n",
       "</div>"
      ],
      "text/plain": [
       "With a health effect       False       True \n",
       "Road type                                   \n",
       "first class road     -964.266965  964.266965\n",
       "highways              964.266965 -964.266965"
      ]
     },
     "execution_count": 223,
     "metadata": {},
     "output_type": "execute_result"
    }
   ],
   "source": [
    "# differents between real and expected data relationship\n",
    "statistic_tab - expect"
   ]
  },
  {
   "cell_type": "markdown",
   "metadata": {},
   "source": [
    "# Hypothesis test 2\n",
    "__Task__: *\"Loss in trolleybus accidents is lower than in bus accidents and this difference is statistically significant\"*  \n",
    "\n",
    "__Method__: *Mann-Whitney U-Test* "
   ]
  },
  {
   "cell_type": "markdown",
   "metadata": {},
   "source": [
    "### Prepare Data\n",
    "\n",
    "Let's familiarise ourselves with the data structure and leave only the ones we are interested in. In this case:\n",
    "\n",
    "- **p1** - Identification number of accident.\n",
    "- **p14*100** - Loss in CZ Corun.\n",
    "- **p44** - Type of vehicles:\n",
    "  - `8` - Bus\n",
    "  - `11` - Trolleybus  \n",
    "  - Other values will be removed.\n",
    "\n",
    "For more convenience, let's convert the data into a human-readable format."
   ]
  },
  {
   "cell_type": "code",
   "execution_count": 224,
   "metadata": {},
   "outputs": [],
   "source": [
    "# load data\n",
    "df_loss = pd.read_pickle(\"vehicles.pkl.gz\")\n",
    "\n",
    "# preprocessing\n",
    "df = pd.merge(df_accident[['p1', 'p14*100']], df_loss[['p1', 'p44']], on='p1', how='inner')\n",
    "df = df[ (df['p44'] == 11) | (df['p44'] == 8 ) ]\n",
    "df['vehicles'] = df['p44'].map({11:'Trolleybus', 8:'Bus'})\n",
    "df['loss'] = df['p14*100']\n",
    "df_trolleybus = df[ df['vehicles'] == 'Trolleybus']['loss']\n",
    "df_bus = df[ df['vehicles'] == 'Bus' ]['loss']"
   ]
  },
  {
   "cell_type": "markdown",
   "metadata": {},
   "source": [
    "### Theory and Test\n",
    "\n",
    "*Mann-Whitney U-Test* is a non-parametric statistical test that is used to test for differences between two independent groups based on the distribution of their values. It is used when groups of data are asymmetric or do not follow a normal distribution.\n",
    "\n",
    "To test the statistically significant difference between two groups (in our case, types of vehicles and monetary losses in their accidents), we declare the null hypothesis, the inverse of our target hypothesis: ‘Loss in trolleybus accidents IS EQUAL than in bus accidents and this difference is statistically significant’. \n",
    "\n",
    "Significance threshold will be 0.05."
   ]
  },
  {
   "cell_type": "code",
   "execution_count": 225,
   "metadata": {},
   "outputs": [
    {
     "name": "stdout",
     "output_type": "stream",
     "text": [
      "The Mann-Whitney U statistic corresponding: 467959.5\n",
      "p-value: 2.471649603120307e-13\n"
     ]
    }
   ],
   "source": [
    "# statistic test\n",
    "test_statistic, p = stats.mannwhitneyu(df_trolleybus, df_bus)\n",
    "\n",
    "print(f'The Mann-Whitney U statistic corresponding: {test_statistic}')\n",
    "print(f'p-value: {p}')"
   ]
  },
  {
   "cell_type": "markdown",
   "metadata": {},
   "source": [
    "### Analys\n",
    "\n",
    "As we can see from the test result, there is a clear difference between the two groups, which refutes the null hypothesis. It remains to determine which of the groups has a greater advantage, for this purpose I assume that we can compare the average values of financial losses."
   ]
  },
  {
   "cell_type": "code",
   "execution_count": 226,
   "metadata": {},
   "outputs": [
    {
     "data": {
      "text/plain": [
       "Text(0, 0.5, 'Avg loss')"
      ]
     },
     "execution_count": 226,
     "metadata": {},
     "output_type": "execute_result"
    },
    {
     "data": {
      "image/png": "[encoded data removed]",
      "text/plain": [
       "<Figure size 800x600 with 1 Axes>"
      ]
     },
     "metadata": {},
     "output_type": "display_data"
    }
   ],
   "source": [
    "# plotting for better representation\n",
    "df = df.groupby('vehicles')['loss'].mean().reset_index()\n",
    "mean_trolleybus_loss = df.loc[df['vehicles'] == 'Trolleybus', 'loss'].values[0]\n",
    "mean_bus_loss = df.loc[df['vehicles'] == 'Bus', 'loss'].values[0]\n",
    "\n",
    "plt.figure(figsize=(8, 6))\n",
    "plt.bar(df['vehicles'], df['loss'], color=['blue', 'red'])\n",
    "\n",
    "plt.title('Avg loss by type of vehicle')\n",
    "plt.xlabel('Type of vehicle')\n",
    "plt.ylabel('Avg loss')"
   ]
  },
  {
   "cell_type": "code",
   "execution_count": 227,
   "metadata": {},
   "outputs": [
    {
     "name": "stdout",
     "output_type": "stream",
     "text": [
      "Fact: Loss in trolleybus accidents IS LOWER than in bus accidents and this difference is statistically significant\n"
     ]
    }
   ],
   "source": [
    "print('Fact: ', end='')\n",
    "if p < 0.05:\n",
    "    if mean_trolleybus_loss < mean_bus_loss:\n",
    "        print('Loss in trolleybus accidents IS LOWER than in bus accidents and this difference is statistically significant.')\n",
    "    else:\n",
    "        print('Loss in trolleybus accidents IS  NO LOWER than in bus accidents and this difference is statistically significant.')\n",
    "else:\n",
    "    print('loss in trolleybus accidents IS EQUAL than in bus accidents and this difference is statistically significant.')"
   ]
  }
 ],
 "metadata": {
  "kernelspec": {
   "display_name": "Python 3",
   "language": "python",
   "name": "python3"
  },
  "language_info": {
   "codemirror_mode": {
    "name": "ipython",
    "version": 3
   },
   "file_extension": ".py",
   "mimetype": "text/x-python",
   "name": "python",
   "nbconvert_exporter": "python",
   "pygments_lexer": "ipython3",
   "version": "3.12.3"
  }
 },
 "nbformat": 4,
 "nbformat_minor": 2
}
